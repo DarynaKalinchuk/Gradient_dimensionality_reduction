{
  "nbformat": 4,
  "nbformat_minor": 0,
  "metadata": {
    "colab": {
      "provenance": []
    },
    "kernelspec": {
      "name": "python3",
      "display_name": "Python 3"
    },
    "language_info": {
      "name": "python"
    },
    "widgets": {
      "application/vnd.jupyter.widget-state+json": {
        "939c3691746641fc8f13b4ec74f88ce7": {
          "model_module": "@jupyter-widgets/controls",
          "model_name": "HBoxModel",
          "model_module_version": "1.5.0",
          "state": {
            "_dom_classes": [],
            "_model_module": "@jupyter-widgets/controls",
            "_model_module_version": "1.5.0",
            "_model_name": "HBoxModel",
            "_view_count": null,
            "_view_module": "@jupyter-widgets/controls",
            "_view_module_version": "1.5.0",
            "_view_name": "HBoxView",
            "box_style": "",
            "children": [
              "IPY_MODEL_39d4d739ec1c48c7a4ba68f5b4a4fb00",
              "IPY_MODEL_b3f86d3b487748d49ab560b83d394870",
              "IPY_MODEL_71ce991d9cc748b8ad31687e545bde2c"
            ],
            "layout": "IPY_MODEL_3c52c8e9edf3411db4586cbc88044e0e"
          }
        },
        "39d4d739ec1c48c7a4ba68f5b4a4fb00": {
          "model_module": "@jupyter-widgets/controls",
          "model_name": "HTMLModel",
          "model_module_version": "1.5.0",
          "state": {
            "_dom_classes": [],
            "_model_module": "@jupyter-widgets/controls",
            "_model_module_version": "1.5.0",
            "_model_name": "HTMLModel",
            "_view_count": null,
            "_view_module": "@jupyter-widgets/controls",
            "_view_module_version": "1.5.0",
            "_view_name": "HTMLView",
            "description": "",
            "description_tooltip": null,
            "layout": "IPY_MODEL_27e3083032bf4c1cb2f51a9f7e8a3716",
            "placeholder": "​",
            "style": "IPY_MODEL_d49e3b2292d640eab2f7980ab45dbca8",
            "value": "Saving the dataset (1/1 shards): 100%"
          }
        },
        "b3f86d3b487748d49ab560b83d394870": {
          "model_module": "@jupyter-widgets/controls",
          "model_name": "FloatProgressModel",
          "model_module_version": "1.5.0",
          "state": {
            "_dom_classes": [],
            "_model_module": "@jupyter-widgets/controls",
            "_model_module_version": "1.5.0",
            "_model_name": "FloatProgressModel",
            "_view_count": null,
            "_view_module": "@jupyter-widgets/controls",
            "_view_module_version": "1.5.0",
            "_view_name": "ProgressView",
            "bar_style": "success",
            "description": "",
            "description_tooltip": null,
            "layout": "IPY_MODEL_0a54d031990644db9b240bbb18cb174b",
            "max": 100,
            "min": 0,
            "orientation": "horizontal",
            "style": "IPY_MODEL_93405eb9143f4c179b8d841fdca892cc",
            "value": 100
          }
        },
        "71ce991d9cc748b8ad31687e545bde2c": {
          "model_module": "@jupyter-widgets/controls",
          "model_name": "HTMLModel",
          "model_module_version": "1.5.0",
          "state": {
            "_dom_classes": [],
            "_model_module": "@jupyter-widgets/controls",
            "_model_module_version": "1.5.0",
            "_model_name": "HTMLModel",
            "_view_count": null,
            "_view_module": "@jupyter-widgets/controls",
            "_view_module_version": "1.5.0",
            "_view_name": "HTMLView",
            "description": "",
            "description_tooltip": null,
            "layout": "IPY_MODEL_0fe6df2fcddf4216b06cc1dcde36b33f",
            "placeholder": "​",
            "style": "IPY_MODEL_822cb561afe641f197d7650387686423",
            "value": " 100/100 [00:00&lt;00:00, 2685.01 examples/s]"
          }
        },
        "3c52c8e9edf3411db4586cbc88044e0e": {
          "model_module": "@jupyter-widgets/base",
          "model_name": "LayoutModel",
          "model_module_version": "1.2.0",
          "state": {
            "_model_module": "@jupyter-widgets/base",
            "_model_module_version": "1.2.0",
            "_model_name": "LayoutModel",
            "_view_count": null,
            "_view_module": "@jupyter-widgets/base",
            "_view_module_version": "1.2.0",
            "_view_name": "LayoutView",
            "align_content": null,
            "align_items": null,
            "align_self": null,
            "border": null,
            "bottom": null,
            "display": null,
            "flex": null,
            "flex_flow": null,
            "grid_area": null,
            "grid_auto_columns": null,
            "grid_auto_flow": null,
            "grid_auto_rows": null,
            "grid_column": null,
            "grid_gap": null,
            "grid_row": null,
            "grid_template_areas": null,
            "grid_template_columns": null,
            "grid_template_rows": null,
            "height": null,
            "justify_content": null,
            "justify_items": null,
            "left": null,
            "margin": null,
            "max_height": null,
            "max_width": null,
            "min_height": null,
            "min_width": null,
            "object_fit": null,
            "object_position": null,
            "order": null,
            "overflow": null,
            "overflow_x": null,
            "overflow_y": null,
            "padding": null,
            "right": null,
            "top": null,
            "visibility": null,
            "width": null
          }
        },
        "27e3083032bf4c1cb2f51a9f7e8a3716": {
          "model_module": "@jupyter-widgets/base",
          "model_name": "LayoutModel",
          "model_module_version": "1.2.0",
          "state": {
            "_model_module": "@jupyter-widgets/base",
            "_model_module_version": "1.2.0",
            "_model_name": "LayoutModel",
            "_view_count": null,
            "_view_module": "@jupyter-widgets/base",
            "_view_module_version": "1.2.0",
            "_view_name": "LayoutView",
            "align_content": null,
            "align_items": null,
            "align_self": null,
            "border": null,
            "bottom": null,
            "display": null,
            "flex": null,
            "flex_flow": null,
            "grid_area": null,
            "grid_auto_columns": null,
            "grid_auto_flow": null,
            "grid_auto_rows": null,
            "grid_column": null,
            "grid_gap": null,
            "grid_row": null,
            "grid_template_areas": null,
            "grid_template_columns": null,
            "grid_template_rows": null,
            "height": null,
            "justify_content": null,
            "justify_items": null,
            "left": null,
            "margin": null,
            "max_height": null,
            "max_width": null,
            "min_height": null,
            "min_width": null,
            "object_fit": null,
            "object_position": null,
            "order": null,
            "overflow": null,
            "overflow_x": null,
            "overflow_y": null,
            "padding": null,
            "right": null,
            "top": null,
            "visibility": null,
            "width": null
          }
        },
        "d49e3b2292d640eab2f7980ab45dbca8": {
          "model_module": "@jupyter-widgets/controls",
          "model_name": "DescriptionStyleModel",
          "model_module_version": "1.5.0",
          "state": {
            "_model_module": "@jupyter-widgets/controls",
            "_model_module_version": "1.5.0",
            "_model_name": "DescriptionStyleModel",
            "_view_count": null,
            "_view_module": "@jupyter-widgets/base",
            "_view_module_version": "1.2.0",
            "_view_name": "StyleView",
            "description_width": ""
          }
        },
        "0a54d031990644db9b240bbb18cb174b": {
          "model_module": "@jupyter-widgets/base",
          "model_name": "LayoutModel",
          "model_module_version": "1.2.0",
          "state": {
            "_model_module": "@jupyter-widgets/base",
            "_model_module_version": "1.2.0",
            "_model_name": "LayoutModel",
            "_view_count": null,
            "_view_module": "@jupyter-widgets/base",
            "_view_module_version": "1.2.0",
            "_view_name": "LayoutView",
            "align_content": null,
            "align_items": null,
            "align_self": null,
            "border": null,
            "bottom": null,
            "display": null,
            "flex": null,
            "flex_flow": null,
            "grid_area": null,
            "grid_auto_columns": null,
            "grid_auto_flow": null,
            "grid_auto_rows": null,
            "grid_column": null,
            "grid_gap": null,
            "grid_row": null,
            "grid_template_areas": null,
            "grid_template_columns": null,
            "grid_template_rows": null,
            "height": null,
            "justify_content": null,
            "justify_items": null,
            "left": null,
            "margin": null,
            "max_height": null,
            "max_width": null,
            "min_height": null,
            "min_width": null,
            "object_fit": null,
            "object_position": null,
            "order": null,
            "overflow": null,
            "overflow_x": null,
            "overflow_y": null,
            "padding": null,
            "right": null,
            "top": null,
            "visibility": null,
            "width": null
          }
        },
        "93405eb9143f4c179b8d841fdca892cc": {
          "model_module": "@jupyter-widgets/controls",
          "model_name": "ProgressStyleModel",
          "model_module_version": "1.5.0",
          "state": {
            "_model_module": "@jupyter-widgets/controls",
            "_model_module_version": "1.5.0",
            "_model_name": "ProgressStyleModel",
            "_view_count": null,
            "_view_module": "@jupyter-widgets/base",
            "_view_module_version": "1.2.0",
            "_view_name": "StyleView",
            "bar_color": null,
            "description_width": ""
          }
        },
        "0fe6df2fcddf4216b06cc1dcde36b33f": {
          "model_module": "@jupyter-widgets/base",
          "model_name": "LayoutModel",
          "model_module_version": "1.2.0",
          "state": {
            "_model_module": "@jupyter-widgets/base",
            "_model_module_version": "1.2.0",
            "_model_name": "LayoutModel",
            "_view_count": null,
            "_view_module": "@jupyter-widgets/base",
            "_view_module_version": "1.2.0",
            "_view_name": "LayoutView",
            "align_content": null,
            "align_items": null,
            "align_self": null,
            "border": null,
            "bottom": null,
            "display": null,
            "flex": null,
            "flex_flow": null,
            "grid_area": null,
            "grid_auto_columns": null,
            "grid_auto_flow": null,
            "grid_auto_rows": null,
            "grid_column": null,
            "grid_gap": null,
            "grid_row": null,
            "grid_template_areas": null,
            "grid_template_columns": null,
            "grid_template_rows": null,
            "height": null,
            "justify_content": null,
            "justify_items": null,
            "left": null,
            "margin": null,
            "max_height": null,
            "max_width": null,
            "min_height": null,
            "min_width": null,
            "object_fit": null,
            "object_position": null,
            "order": null,
            "overflow": null,
            "overflow_x": null,
            "overflow_y": null,
            "padding": null,
            "right": null,
            "top": null,
            "visibility": null,
            "width": null
          }
        },
        "822cb561afe641f197d7650387686423": {
          "model_module": "@jupyter-widgets/controls",
          "model_name": "DescriptionStyleModel",
          "model_module_version": "1.5.0",
          "state": {
            "_model_module": "@jupyter-widgets/controls",
            "_model_module_version": "1.5.0",
            "_model_name": "DescriptionStyleModel",
            "_view_count": null,
            "_view_module": "@jupyter-widgets/base",
            "_view_module_version": "1.2.0",
            "_view_name": "StyleView",
            "description_width": ""
          }
        }
      }
    }
  },
  "cells": [
    {
      "cell_type": "markdown",
      "source": [
        "# Codes for creation (sampling) of the datasets used, as well as their quality check"
      ],
      "metadata": {
        "id": "7JyJjHhokJhD"
      }
    },
    {
      "cell_type": "code",
      "source": [
        "%%capture\n",
        "!pip install --upgrade --quiet datasets huggingface_hub fsspec\n"
      ],
      "metadata": {
        "id": "7H1Y9Z8ykJvh"
      },
      "execution_count": 1,
      "outputs": []
    },
    {
      "cell_type": "code",
      "source": [
        "from huggingface_hub import login\n",
        "from datasets import load_dataset\n",
        "\n",
        "login(token=\" \")\n"
      ],
      "metadata": {
        "id": "LgH0iJG5qk71"
      },
      "execution_count": 3,
      "outputs": []
    },
    {
      "cell_type": "markdown",
      "source": [
        "Test dataset:"
      ],
      "metadata": {
        "id": "jrkpxjj1rTh5"
      }
    },
    {
      "cell_type": "code",
      "source": [
        "%%capture\n",
        "ds = load_dataset(\"HuggingFaceH4/ultrachat_200k\")"
      ],
      "metadata": {
        "id": "5An3Fyp9qmwc"
      },
      "execution_count": 4,
      "outputs": []
    },
    {
      "cell_type": "code",
      "source": [
        "ds_split = ds['test_sft']\n",
        "sampled_dataset = ds_split.select(range(100))  #first 100 samples"
      ],
      "metadata": {
        "id": "rZPj4r7qrUmq"
      },
      "execution_count": null,
      "outputs": []
    },
    {
      "cell_type": "code",
      "source": [
        "sampled_dataset.save_to_disk(\"HFH4_ultrachat_200k_first100_samples\")"
      ],
      "metadata": {
        "colab": {
          "base_uri": "https://localhost:8080/",
          "height": 49,
          "referenced_widgets": [
            "939c3691746641fc8f13b4ec74f88ce7",
            "39d4d739ec1c48c7a4ba68f5b4a4fb00",
            "b3f86d3b487748d49ab560b83d394870",
            "71ce991d9cc748b8ad31687e545bde2c",
            "3c52c8e9edf3411db4586cbc88044e0e",
            "27e3083032bf4c1cb2f51a9f7e8a3716",
            "d49e3b2292d640eab2f7980ab45dbca8",
            "0a54d031990644db9b240bbb18cb174b",
            "93405eb9143f4c179b8d841fdca892cc",
            "0fe6df2fcddf4216b06cc1dcde36b33f",
            "822cb561afe641f197d7650387686423"
          ]
        },
        "id": "3Ad0rZiYrXNq",
        "outputId": "89655c43-41f1-4311-bb55-a83530f7f6df"
      },
      "execution_count": null,
      "outputs": [
        {
          "output_type": "display_data",
          "data": {
            "text/plain": [
              "Saving the dataset (0/1 shards):   0%|          | 0/100 [00:00<?, ? examples/s]"
            ],
            "application/vnd.jupyter.widget-view+json": {
              "version_major": 2,
              "version_minor": 0,
              "model_id": "939c3691746641fc8f13b4ec74f88ce7"
            }
          },
          "metadata": {}
        }
      ]
    },
    {
      "cell_type": "code",
      "source": [
        "for i in range(2):\n",
        "    print(f\"Test sample {i+1}:\\n{sampled_dataset[i]}\\n\")\n"
      ],
      "metadata": {
        "colab": {
          "base_uri": "https://localhost:8080/"
        },
        "id": "TLIWxRoXrY5i",
        "outputId": "34b09cc8-9489-46ae-8398-13a58ead8d96"
      },
      "execution_count": null,
      "outputs": [
        {
          "output_type": "stream",
          "name": "stdout",
          "text": [
            "Test sample 1:\n",
            "{'prompt': 'How does the author propose to fix the problem of science alienation in our educational system? What changes does she suggest should be made to science education? Answer according to: Science education should be split into two tracks.\\nSplit K-12 science education into two tracks, for majors and nonmajors.\\nThose who want to specialize in science could take math and complex chemistry. Nonmajors would focus on science of the everyday—things like kitchen chemistry and CSI-style crime investigations.\\nSome years ago, when I was working as a newspaper science writer in California, I fell into a rather idle conversation with a physicist on the subject of science education. Idle for him, at least, because what he said—the way he defined the American system of teaching K-12 students about science—has stayed with me since.\\nThis conversation has returned to me many times over the years. On the day my older son, who spent his childhood joyfully chasing insects and reading natural history books, came home from high school to announce that “biology is the most boring subject in the world.” The time the student adviser at the University of Wisconsin journalism school, where I teach, told me that undergrads don’t want to take science-writing classes because they already felt “beaten up by science.” Even on days when I read science literacy statistics and am startled by the percentage of people who think that antibiotics kill viruses as well as bacteria or that the sun revolves around the Earth.\\nIt’s easy for me to join with the chorus of concern over whether we are keeping up as a science-literate country. But even so, science literacy is the wrong term for the worried point I’m making here. I’m concerned about science alienation. The way we teach K-12 science, with its emphasis on the intricacies of formula and mathematical structure necessary for the next generation of scientists and engineers, shuts too many people out. I don’t mean just shut out of the priesthood here; there’s no reason for everyone to become a scientist. But shut out of the comfort zone, of the ability to think of science as something useful in daily life.\\nAnd it’s the science-alienated who matter to me. Partly because as a science writer I find them the most interesting audience—I love the idea of seducing someone convinced that science is boring or meaningless into reading a research-centered story. Partly because I worry that what The New Yorker’s Michael Specter describes as a culture of science denialism is having a profound—possibly dangerous—effect on public policies. Think, for instance, of recent moves in Virginia, Texas, and North Carolina to deny that sea level rise is related to global climate change. And partly I just think that the filtered-out are cheated. They endure the mandatory classes, but they never really learn the main lesson—the way that science helps us understand ourselves and the world around us.\\nThe great psychologist and philosopher William James wrote more than 100 years ago that the science establishment would face consequences if it dismissed the importance of the lay public. In the year 1909, he said, it was easy to find people who no longer paid attention to the teachings of researchers. “They are indifferent to science,” he explained, “because science is so callously indifferent to their experiences.” Today, this is very relevant to K-12 science education: Our system breeds that indifference.\\nHow can we fix it? By requiring even more science education—but changing it dramatically. All high school students should have to take four years of science, instead of the minimal two usually required for graduation. Along with that, we should also offer separate “science tracks”—something like the old tracks for vocational or college-bound students. Those who want to specialize in science could take math, physics, and complex chemistry (and the kind of genetically detailed biology that my son disliked). Nonmajors, by contrast, would focus on what I think of as science of the everyday—things like kitchen chemistry, CSI-style crime investigation, the biology of health, and a class in the physics of sports that would include playing the games.\\nMy tracking system could easily build on existing science electives. My son’s school, for instance, teaches a forensic science unit which uses the classroom as an ever changing “crime scene,” exploring everything from DNA analysis to blood typing. It’s a way of putting science in context. More students would take such classes; more would be exposed to these ideas as they did the coursework needed to complete each track. Ideally, the tracks could be coordinated with the science classes offered for majors and nonmajors at the college level. Of course, occasionally a student might want to switch tracks—and we should allow for that, too. It could go both ways: Would-be scientists might realize that the field isn’t really for them and switch to the nonmajor track, while some students might be inspired by the CSI class to move into the more difficult sciences.\\nWe need to stop trying to teach every child as either a future scientist or a future failed scientist. We don’t want or need every student to be a scientist, but we do want each one to be a success. And success includes a solid understanding and appreciation of science, one that will remain useful to both themselves and society throughout their lives.\\nAlso in Slate’s special issue on science education: Fred Kaplan explains why another “Sputnik moment” would be impossible; Philip Plait explains why he became the “Bad Astronomer”; Paul Plotz describes how almost blowing up his parents’ basement made him a scientist; Tom Kalil says that the Obama administration is using the Make movement to encourage science education; and Dana Goldstein explains why you should make your daughter play video games. Also, share your ideas for fixing science education in the Hive. This article arises from Future Tense, a joint partnership of Slate, the New America Foundation, and Arizona State University.', 'prompt_id': '9fb649a870769f4881c647d20d178656f67fc881b2dc0b65d4860237c2c8da6c', 'messages': [{'content': 'How does the author propose to fix the problem of science alienation in our educational system? What changes does she suggest should be made to science education? Answer according to: Science education should be split into two tracks.\\nSplit K-12 science education into two tracks, for majors and nonmajors.\\nThose who want to specialize in science could take math and complex chemistry. Nonmajors would focus on science of the everyday—things like kitchen chemistry and CSI-style crime investigations.\\nSome years ago, when I was working as a newspaper science writer in California, I fell into a rather idle conversation with a physicist on the subject of science education. Idle for him, at least, because what he said—the way he defined the American system of teaching K-12 students about science—has stayed with me since.\\nThis conversation has returned to me many times over the years. On the day my older son, who spent his childhood joyfully chasing insects and reading natural history books, came home from high school to announce that “biology is the most boring subject in the world.” The time the student adviser at the University of Wisconsin journalism school, where I teach, told me that undergrads don’t want to take science-writing classes because they already felt “beaten up by science.” Even on days when I read science literacy statistics and am startled by the percentage of people who think that antibiotics kill viruses as well as bacteria or that the sun revolves around the Earth.\\nIt’s easy for me to join with the chorus of concern over whether we are keeping up as a science-literate country. But even so, science literacy is the wrong term for the worried point I’m making here. I’m concerned about science alienation. The way we teach K-12 science, with its emphasis on the intricacies of formula and mathematical structure necessary for the next generation of scientists and engineers, shuts too many people out. I don’t mean just shut out of the priesthood here; there’s no reason for everyone to become a scientist. But shut out of the comfort zone, of the ability to think of science as something useful in daily life.\\nAnd it’s the science-alienated who matter to me. Partly because as a science writer I find them the most interesting audience—I love the idea of seducing someone convinced that science is boring or meaningless into reading a research-centered story. Partly because I worry that what The New Yorker’s Michael Specter describes as a culture of science denialism is having a profound—possibly dangerous—effect on public policies. Think, for instance, of recent moves in Virginia, Texas, and North Carolina to deny that sea level rise is related to global climate change. And partly I just think that the filtered-out are cheated. They endure the mandatory classes, but they never really learn the main lesson—the way that science helps us understand ourselves and the world around us.\\nThe great psychologist and philosopher William James wrote more than 100 years ago that the science establishment would face consequences if it dismissed the importance of the lay public. In the year 1909, he said, it was easy to find people who no longer paid attention to the teachings of researchers. “They are indifferent to science,” he explained, “because science is so callously indifferent to their experiences.” Today, this is very relevant to K-12 science education: Our system breeds that indifference.\\nHow can we fix it? By requiring even more science education—but changing it dramatically. All high school students should have to take four years of science, instead of the minimal two usually required for graduation. Along with that, we should also offer separate “science tracks”—something like the old tracks for vocational or college-bound students. Those who want to specialize in science could take math, physics, and complex chemistry (and the kind of genetically detailed biology that my son disliked). Nonmajors, by contrast, would focus on what I think of as science of the everyday—things like kitchen chemistry, CSI-style crime investigation, the biology of health, and a class in the physics of sports that would include playing the games.\\nMy tracking system could easily build on existing science electives. My son’s school, for instance, teaches a forensic science unit which uses the classroom as an ever changing “crime scene,” exploring everything from DNA analysis to blood typing. It’s a way of putting science in context. More students would take such classes; more would be exposed to these ideas as they did the coursework needed to complete each track. Ideally, the tracks could be coordinated with the science classes offered for majors and nonmajors at the college level. Of course, occasionally a student might want to switch tracks—and we should allow for that, too. It could go both ways: Would-be scientists might realize that the field isn’t really for them and switch to the nonmajor track, while some students might be inspired by the CSI class to move into the more difficult sciences.\\nWe need to stop trying to teach every child as either a future scientist or a future failed scientist. We don’t want or need every student to be a scientist, but we do want each one to be a success. And success includes a solid understanding and appreciation of science, one that will remain useful to both themselves and society throughout their lives.\\nAlso in Slate’s special issue on science education: Fred Kaplan explains why another “Sputnik moment” would be impossible; Philip Plait explains why he became the “Bad Astronomer”; Paul Plotz describes how almost blowing up his parents’ basement made him a scientist; Tom Kalil says that the Obama administration is using the Make movement to encourage science education; and Dana Goldstein explains why you should make your daughter play video games. Also, share your ideas for fixing science education in the Hive. This article arises from Future Tense, a joint partnership of Slate, the New America Foundation, and Arizona State University.', 'role': 'user'}, {'content': 'The author proposes to fix the problem of science alienation in our educational system by splitting K-12 science education into two tracks, for majors and nonmajors. Those who want to specialize in science could take math and complex chemistry, while nonmajors would focus on science of the everyday – things like kitchen chemistry and CSI-style crime investigations. All high school students should take four years of science, and the tracking system could build on existing science electives. The goal is to teach every student a solid understanding and appreciation of science, one that will remain useful to both themselves and society throughout their lives.', 'role': 'assistant'}, {'content': 'Can you provide examples of how the proposed tracking system for science education could be implemented in schools?', 'role': 'user'}, {'content': 'There are several ways in which the proposed tracking system for science education could be implemented in schools. Here are a few examples:\\n\\n1. One approach could be to offer different science courses for majors and nonmajors starting in middle school. For example, in 6th grade, students could be divided into two tracks, and each track would take a different science course. In the major track, students would take a course that focuses on the foundations of science, including an emphasis on mathematics and physics. In the nonmajor track, students would take a course that focuses on science concepts that are relevant to everyday life, such as health and nutrition.\\n\\n2. Another approach could be to offer more advanced science courses in high school for students who wish to pursue a career in science. This could include courses in advanced physics, chemistry, and biology. For students who are not interested in a science career, science courses could be focused on more practical applications of science, such as environmental science or food science.\\n\\n3. Schools could also offer a wider range of science electives to cater to the varied interests of students. For example, students interested in engineering could take courses in robotics or renewable energy, while those interested in the medical field could take courses in anatomy and physiology.\\n\\n4. Hands-on science experiments and projects could be incorporated into science classes to make learning more engaging and relevant. For example, students could conduct experiments in their own kitchens to learn about chemical reactions, or participate in a mock crime scene investigation to learn about forensic science.\\n\\nOverall, the tracking system for science education proposed by the author could be implemented in a variety of ways, depending on the specific needs and interests of students in each school.', 'role': 'assistant'}, {'content': 'Can you explain how the proposed tracking system for science education would benefit students who are not interested in pursuing a career in science?', 'role': 'user'}, {'content': 'The proposed tracking system for science education would benefit students who are not interested in pursuing a career in science in several ways. First, it would help them develop an understanding and appreciation of science concepts that are relevant to everyday life, such as health, nutrition, and the environment. This would help them make informed decisions in their personal lives and understand how science impacts society as a whole.\\n\\nSecond, focusing on science concepts that are practical and engaging would make science more interesting and relevant to non-science students. This could help them overcome their science alienation and develop a sense of curiosity and wonder about science.\\n\\nLastly, the proposed tracking system would offer non-science students a wider range of science courses and electives to choose from, which would allow them to explore different areas of science according to their interests. For example, a student who is interested in sports could take a physics of sports class, while a student who is interested in cooking could take a kitchen chemistry class.\\n\\nOverall, the proposed tracking system for science education would benefit non-science students by providing them with a solid understanding and appreciation of science concepts that are relevant to their everyday lives, increasing their interest in science, and offering them more opportunities to explore science according to their interests.', 'role': 'assistant'}, {'content': 'Can you elaborate on how offering separate science tracks would inspire students to explore science further and possibly change their career path?', 'role': 'user'}, {'content': 'Offering separate science tracks would inspire students to explore science further and possibly change their career path by exposing them to a wider range of science concepts that are relevant to their interests and providing them with the opportunity to engage in hands-on, practical science activities that they may enjoy.\\n\\nFor example, a student who takes a kitchen chemistry class in the non-major track may discover a newfound interest in food science and decide to pursue a career in that field. Similarly, a student who takes a physics of sports class may develop an interest in sports science and decide to pursue that field.\\n\\nFurthermore, by offering science courses that are more practical and engaging, students who may have previously been disinterested in science may discover a passion for a particular subject or field within science. This could motivate them to pursue further studies in that area and even consider a career in science.\\n\\nOverall, by offering separate science tracks, schools would be creating opportunities for students to explore science according to their interests and discover new areas of science that they may be passionate about. This could inspire them to change their career path and pursue a career in science, even if they had not previously considered it. The more science-literate our society is, the more equipped we are to tackle challenges and advance scientific discoveries.', 'role': 'assistant'}]}\n",
            "\n",
            "Test sample 2:\n",
            "{'prompt': 'Rice tolerance to suboptimal low temperatures relies on the maintenance of the photosynthetic capacity.\\nGazquez, A., Vilas, J. M., Colman Lerner, J. E., Maiale, S. J., Calzadilla, P. I., Menendez, A. B. and Rodriguez, A. A.\\nLaboratorio de Fisiologia de Estres Abiotico en Plantas, Unidad de Biotecnologia 1, IIB-INTECH, CONICET, UNSAM, Chascomus, Argentina.\\nCentro de Investigaciones y Desarrollo en Ciencias Aplicadas, FCEx, UNLP, Argentina.\\nDepartamento de Biodiversidad y Biologia Experimental, FCEyN - UBA, INMIBO-CONICET, Buenos Aires, Argentina.\\nLaboratorio de Fisiologia de Estres Abiotico en Plantas, Unidad de Biotecnologia 1, IIB-INTECH, CONICET, UNSAM, Chascomus, Argentina. Electronic address: andresrodriguez@conicet.gov.ar.\\nThe purpose of this research was to identify differences between two contrasting rice cultivars in their response to suboptimal low temperatures stress. A transcriptomic analysis of the seedlings was performed and results were complemented with biochemical and physiological analyses. The microarray analysis showed downregulation of many genes related with PSII and particularly with the oxygen evolving complex in the sensitive cultivar IR50. Complementary studies indicated that the PSII performance, the degree of oxygen evolving complex coupling with the PSII core and net photosynthetic rate diminished in this cultivar in response to the stress. However, the tolerant cultivar Koshihikari was able to maintain its energy equilibrium by sustaining the photosynthetic capacity. The increase of oleic acid in Koshihikari could be related with membrane remodelling of the chloroplasts and hence contribute to tolerance. Overall, these results work as a ground for future analyses that look forward to characterize possible mechanisms to tolerate this stress. How did the tolerant rice cultivar Koshihikari maintain its photosynthetic capacity under suboptimal low temperatures stress, and what possible mechanisms could contribute to its tolerance?', 'prompt_id': '26afb4f9bffc82fbbfdcaa8f0eec0833780e411799dceed12d639c71ce08da25', 'messages': [{'content': 'Rice tolerance to suboptimal low temperatures relies on the maintenance of the photosynthetic capacity.\\nGazquez, A., Vilas, J. M., Colman Lerner, J. E., Maiale, S. J., Calzadilla, P. I., Menendez, A. B. And Rodriguez, A. A.\\nLaboratorio de Fisiologia de Estres Abiotico en Plantas, Unidad de Biotecnologia 1, IIB-INTECH, CONICET, UNSAM, Chascomus, Argentina.\\nCentro de Investigaciones y Desarrollo en Ciencias Aplicadas, FCEx, UNLP, Argentina.\\nDepartamento de Biodiversidad y Biologia Experimental, FCEyN - UBA, INMIBO-CONICET, Buenos Aires, Argentina.\\nLaboratorio de Fisiologia de Estres Abiotico en Plantas, Unidad de Biotecnologia 1, IIB-INTECH, CONICET, UNSAM, Chascomus, Argentina. Electronic address: andresrodriguez@conicet.gov.ar.\\nThe purpose of this research was to identify differences between two contrasting rice cultivars in their response to suboptimal low temperatures stress. A transcriptomic analysis of the seedlings was performed and results were complemented with biochemical and physiological analyses. The microarray analysis showed downregulation of many genes related with PSII and particularly with the oxygen evolving complex in the sensitive cultivar IR50. Complementary studies indicated that the PSII performance, the degree of oxygen evolving complex coupling with the PSII core and net photosynthetic rate diminished in this cultivar in response to the stress. However, the tolerant cultivar Koshihikari was able to maintain its energy equilibrium by sustaining the photosynthetic capacity. The increase of oleic acid in Koshihikari could be related with membrane remodelling of the chloroplasts and hence contribute to tolerance. Overall, these results work as a ground for future analyses that look forward to characterize possible mechanisms to tolerate this stress. How did the tolerant rice cultivar Koshihikari maintain its photosynthetic capacity under suboptimal low temperatures stress, and what possible mechanisms could contribute to its tolerance?', 'role': 'user'}, {'content': \"The tolerant rice cultivar Koshihikari maintained its photosynthetic capacity under suboptimal low temperatures stress by sustaining its energy equilibrium. This was achieved through maintaining the activity of the photosystem II (PSII) and the coupling of the oxygen evolving complex with the PSII core, resulting in a higher net photosynthetic rate. Additionally, Koshihikari exhibited an increase in oleic acid, which could potentially contribute to membrane remodeling of chloroplasts and contribute to tolerance. Possible mechanisms that could also contribute to Koshihikari's tolerance include increased antioxidant defense mechanisms and changes in the expression of stress-responsive genes. Further research is necessary to fully understand how Koshihikari is able to tolerate suboptimal low temperatures stress and to identify potential targets for breeding programs aimed at improving rice yields under adverse environmental conditions.\", 'role': 'assistant'}, {'content': 'Can you provide more details about the biochemical and physiological analyses that were conducted in the study?', 'role': 'user'}, {'content': 'Yes, the researchers conducted several biochemical and physiological analyses in addition to the transcriptomic analysis to understand the response of the two rice cultivars to suboptimal low temperatures stress. Here are some details about these analyses:\\n\\n1. Chlorophyll fluorescence measurements: The researchers measured the chlorophyll fluorescence in the seedlings of both the tolerant and sensitive cultivars using a pulse-amplitude modulated fluorometer. This allowed them to assess the performance of the photosystem II (PSII) under stress.\\n\\n2. Oxygen evolution measurements: The researchers also measured the rate of oxygen evolution in the seedlings of both cultivars under stress conditions. This allowed them to quantify the coupling of the oxygen evolving complex with the PSII core.\\n\\n3. Net photosynthetic rate measurements: The researchers measured the net photosynthetic rate in both cultivars under stress conditions. This allowed them to assess the overall photosynthetic capacity of the plants in response to the stress.\\n\\n4. Lipid profiling: The researchers analyzed the lipid composition of the seedlings using gas chromatography-mass spectrometry (GC-MS). This allowed them to identify changes in the fatty acid composition of the plants under stress.\\n\\n5. Transcriptomic analysis: The researchers performed a genome-wide transcriptional analysis of the two rice cultivars to identify genes that were differentially expressed under suboptimal low temperatures stress conditions.\\n\\nThrough these different analyses, the researchers were able to identify differences in the response of the two rice cultivars to suboptimal low temperatures stress, particularly in their photosynthetic performance and membrane lipid composition.', 'role': 'assistant'}, {'content': \"Can you explain how the downregulation of genes related to the photosystem II (PSII) and the oxygen evolving complex affected the sensitive cultivar IR50's response to suboptimal low temperatures stress?\", 'role': 'user'}, {'content': \"Yes, the downregulation of genes related to the photosystem II (PSII) and the oxygen evolving complex had a negative effect on the sensitive cultivar IR50's response to suboptimal low temperatures stress. The PSII is a key component of the photosynthetic machinery that is responsible for capturing light and converting it into chemical energy. The oxygen evolving complex is an essential part of PSII that is involved in the splitting of water to release oxygen during photosynthesis.\\n\\nThe microarray analysis showed that many genes related to PSII and the oxygen evolving complex were downregulated in the sensitive cultivar IR50 under suboptimal low temperatures stress. This likely led to a reduction in the activity of PSII and the oxygen evolving complex, which would have limited the plant's ability to capture light energy and perform photosynthesis. This decrease in photosynthetic activity would have affected the plant's overall growth and development, making it more vulnerable to stress.\\n\\nIn contrast, the tolerant cultivar Koshihikari was able to maintain the activity of the PSII and the oxygen evolving complex under suboptimal low temperatures stress, allowing it to maintain its photosynthetic capacity and overall growth. These findings highlight the importance of maintaining the photosynthetic capacity in plants under stress conditions to ensure their survival and productivity.\", 'role': 'assistant'}]}\n",
            "\n"
          ]
        }
      ]
    },
    {
      "cell_type": "markdown",
      "source": [
        "Pushing to HF"
      ],
      "metadata": {
        "id": "Bvw16oxgxHRO"
      }
    },
    {
      "cell_type": "code",
      "source": [
        "from datasets import DatasetDict, load_from_disk\n",
        "\n",
        "#loading saved sample\n",
        "sampled_dataset = load_from_disk(\"HFH4_ultrachat_200k_first100_samples\")\n",
        "\n",
        "# # pushing to Hugging Face\n",
        "# sampled_dataset.push_to_hub(\"daryna3325/HFH4_ultrachat_200k_first100_samples\")\n"
      ],
      "metadata": {
        "id": "iAjvTZ-qrbaK"
      },
      "execution_count": null,
      "outputs": []
    },
    {
      "cell_type": "markdown",
      "source": [
        "Train dataeset:"
      ],
      "metadata": {
        "id": "7pA54qEkscXZ"
      }
    },
    {
      "cell_type": "code",
      "source": [
        "nan_id_cosine = \"open_orca_t0.1598436\""
      ],
      "metadata": {
        "id": "fKkGN_TKso8j"
      },
      "execution_count": null,
      "outputs": []
    },
    {
      "cell_type": "code",
      "source": [
        "%%capture\n",
        "ds = load_dataset(\"allenai/tulu-v2-sft-mixture\")"
      ],
      "metadata": {
        "id": "F0w-ZIKcscgc"
      },
      "execution_count": 14,
      "outputs": []
    },
    {
      "cell_type": "markdown",
      "source": [
        "Pushing to HF"
      ],
      "metadata": {
        "id": "VNUHUBJCxJ6O"
      }
    },
    {
      "cell_type": "code",
      "source": [
        "ds_train = ds['train']\n",
        "\n",
        "sampled_dataset = ds_train.shuffle(seed=42).select(range(1000))\n",
        "\n",
        "sampled_dataset.save_to_disk(\"sampled_tulu_1000\")\n",
        "\n",
        "#loading saved sample\n",
        "sampled_dataset = load_from_disk(\"sampled_tulu_1000\")\n",
        "\n",
        "# # pushing to Hugging Face\n",
        "# sampled_dataset.push_to_hub(\"daryna3325/sampled-tulu-1000\")\n"
      ],
      "metadata": {
        "id": "DEAYBKdOsgqj"
      },
      "execution_count": null,
      "outputs": []
    },
    {
      "cell_type": "code",
      "source": [
        "%%capture\n",
        "ds = load_dataset(\"daryna3325/sampled-tulu-1000\", split = \"train\")"
      ],
      "metadata": {
        "id": "xtYv34susiCr"
      },
      "execution_count": null,
      "outputs": []
    },
    {
      "cell_type": "code",
      "source": [
        "next((len(example['messages'][1]['content']) for i, example in enumerate(ds) if example['id'] == nan_id_cosine), None)\n"
      ],
      "metadata": {
        "colab": {
          "base_uri": "https://localhost:8080/"
        },
        "id": "4VshJXaaskVL",
        "outputId": "b03fa858-54da-41ad-ede2-9fa83b95f9f0"
      },
      "execution_count": null,
      "outputs": [
        {
          "output_type": "execute_result",
          "data": {
            "text/plain": [
              "18002"
            ]
          },
          "metadata": {},
          "execution_count": 11
        }
      ]
    },
    {
      "cell_type": "code",
      "source": [
        "target_id = \"open_orca_t0.1598436\"\n",
        "index = next((i for i, example in enumerate(ds) if example['id'] == target_id), None)\n",
        "\n",
        "print(f\"Index of sample with id {target_id}:\", index)"
      ],
      "metadata": {
        "colab": {
          "base_uri": "https://localhost:8080/"
        },
        "id": "tk17mdSOstrk",
        "outputId": "72bca39d-d286-40a1-bd22-45f6b4ec7b11"
      },
      "execution_count": null,
      "outputs": [
        {
          "output_type": "stream",
          "name": "stdout",
          "text": [
            "Index of sample with id open_orca_t0.1598436: 570\n"
          ]
        }
      ]
    },
    {
      "cell_type": "markdown",
      "source": [
        "![image.png](data:image/png;base64,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)"
      ],
      "metadata": {
        "id": "fxHvsBi0s2T2"
      }
    },
    {
      "cell_type": "code",
      "source": [
        "import matplotlib.pyplot as plt\n",
        "\n",
        "lengths = [len(example['messages'][1]['content']) for i, example in enumerate(ds)]\n",
        "plt.hist(lengths, bins=30)\n",
        "plt.xlabel(\"Message Length\")\n",
        "plt.ylabel(\"Frequency\")\n",
        "plt.title(\"Histogram of Message Lengths\")\n",
        "plt.show()"
      ],
      "metadata": {
        "colab": {
          "base_uri": "https://localhost:8080/",
          "height": 472
        },
        "id": "0jNrlHITs2qm",
        "outputId": "828c5a5f-090b-4c76-8fe3-a307965fad68"
      },
      "execution_count": null,
      "outputs": [
        {
          "output_type": "display_data",
          "data": {
            "text/plain": [
              "<Figure size 640x480 with 1 Axes>"
            ],
            "image/png": "[encoded data removed]"
          },
          "metadata": {}
        }
      ]
    },
    {
      "cell_type": "code",
      "source": [
        "max(len(example['messages'][1]['content']) for i, example in enumerate(ds))\n"
      ],
      "metadata": {
        "colab": {
          "base_uri": "https://localhost:8080/"
        },
        "id": "jukC1UaKs81u",
        "outputId": "7121e658-0754-43ca-a5af-a3529c57fc46"
      },
      "execution_count": null,
      "outputs": [
        {
          "output_type": "execute_result",
          "data": {
            "text/plain": [
              "18002"
            ]
          },
          "metadata": {},
          "execution_count": 14
        }
      ]
    }
  ]
}